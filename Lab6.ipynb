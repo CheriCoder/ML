{
 "cells": [
  {
   "cell_type": "code",
   "execution_count": 1,
   "id": "4f0050e9-9fe0-42c4-893b-77e89df404a7",
   "metadata": {},
   "outputs": [
    {
     "name": "stdout",
     "output_type": "stream",
     "text": [
      "Requirement already satisfied: pgmpy in c:\\anaconda\\lib\\site-packages (0.1.25)\n",
      "Requirement already satisfied: networkx in c:\\anaconda\\lib\\site-packages (from pgmpy) (3.1)\n",
      "Requirement already satisfied: numpy in c:\\anaconda\\lib\\site-packages (from pgmpy) (1.22.4)\n",
      "Requirement already satisfied: scipy in c:\\anaconda\\lib\\site-packages (from pgmpy) (1.11.1)\n",
      "Requirement already satisfied: scikit-learn in c:\\anaconda\\lib\\site-packages (from pgmpy) (1.3.0)\n",
      "Requirement already satisfied: pandas in c:\\anaconda\\lib\\site-packages (from pgmpy) (2.0.3)\n",
      "Requirement already satisfied: pyparsing in c:\\anaconda\\lib\\site-packages (from pgmpy) (3.0.9)\n",
      "Requirement already satisfied: torch in c:\\anaconda\\lib\\site-packages (from pgmpy) (2.0.1)\n",
      "Requirement already satisfied: statsmodels in c:\\anaconda\\lib\\site-packages (from pgmpy) (0.14.0)\n",
      "Requirement already satisfied: tqdm in c:\\anaconda\\lib\\site-packages (from pgmpy) (4.66.2)\n",
      "Requirement already satisfied: joblib in c:\\anaconda\\lib\\site-packages (from pgmpy) (1.4.0)\n",
      "Requirement already satisfied: opt-einsum in c:\\anaconda\\lib\\site-packages (from pgmpy) (3.3.0)\n",
      "Requirement already satisfied: python-dateutil>=2.8.2 in c:\\anaconda\\lib\\site-packages (from pandas->pgmpy) (2.8.2)\n",
      "Requirement already satisfied: pytz>=2020.1 in c:\\anaconda\\lib\\site-packages (from pandas->pgmpy) (2024.1)\n",
      "Requirement already satisfied: tzdata>=2022.1 in c:\\anaconda\\lib\\site-packages (from pandas->pgmpy) (2023.3)\n",
      "Requirement already satisfied: threadpoolctl>=2.0.0 in c:\\anaconda\\lib\\site-packages (from scikit-learn->pgmpy) (2.2.0)\n",
      "Requirement already satisfied: patsy>=0.5.2 in c:\\anaconda\\lib\\site-packages (from statsmodels->pgmpy) (0.5.3)\n",
      "Requirement already satisfied: packaging>=21.3 in c:\\anaconda\\lib\\site-packages (from statsmodels->pgmpy) (23.2)\n",
      "Requirement already satisfied: filelock in c:\\anaconda\\lib\\site-packages (from torch->pgmpy) (3.13.1)\n",
      "Requirement already satisfied: typing-extensions in c:\\anaconda\\lib\\site-packages (from torch->pgmpy) (4.11.0)\n",
      "Requirement already satisfied: sympy in c:\\anaconda\\lib\\site-packages (from torch->pgmpy) (1.12)\n",
      "Requirement already satisfied: jinja2 in c:\\anaconda\\lib\\site-packages (from torch->pgmpy) (3.1.3)\n",
      "Requirement already satisfied: colorama in c:\\anaconda\\lib\\site-packages (from tqdm->pgmpy) (0.4.6)\n",
      "Requirement already satisfied: six in c:\\anaconda\\lib\\site-packages (from patsy>=0.5.2->statsmodels->pgmpy) (1.16.0)\n",
      "Requirement already satisfied: MarkupSafe>=2.0 in c:\\anaconda\\lib\\site-packages (from jinja2->torch->pgmpy) (2.1.3)\n",
      "Requirement already satisfied: mpmath>=0.19 in c:\\anaconda\\lib\\site-packages (from sympy->torch->pgmpy) (1.3.0)\n"
     ]
    }
   ],
   "source": [
    "!pip install pgmpy\n",
    "import numpy as np\n",
    "import pandas as pd\n",
    "import csv\n",
    "from pgmpy.estimators import MaximumLikelihoodEstimator\n",
    "from pgmpy.models import BayesianNetwork\n",
    "from pgmpy.inference import VariableElimination"
   ]
  },
  {
   "cell_type": "code",
   "execution_count": 2,
   "id": "db42710a-f96d-48a3-94c6-343e66bb2aea",
   "metadata": {},
   "outputs": [],
   "source": [
    "heartDisease = pd.read_csv('heart.csv')\n",
    "heartDisease = heartDisease.replace('?',np.nan)"
   ]
  },
  {
   "cell_type": "code",
   "execution_count": 3,
   "id": "33e329c5-4f60-4164-8f6f-ed03b94303eb",
   "metadata": {},
   "outputs": [
    {
     "name": "stdout",
     "output_type": "stream",
     "text": [
      "Sample instances from the dataset are given below\n",
      "   age  sex  cp  trestbps  chol  fbs  restecg  thalach  exang  oldpeak  slope  \\\n",
      "0   52    1   0       125   212    0        1      168      0      1.0      2   \n",
      "1   53    1   0       140   203    1        0      155      1      3.1      0   \n",
      "2   70    1   0       145   174    0        1      125      1      2.6      0   \n",
      "3   61    1   0       148   203    0        1      161      0      0.0      2   \n",
      "4   62    0   0       138   294    1        1      106      0      1.9      1   \n",
      "\n",
      "   ca  thal  target  \n",
      "0   2     3       0  \n",
      "1   0     3       0  \n",
      "2   0     3       0  \n",
      "3   1     3       0  \n",
      "4   3     2       0  \n"
     ]
    }
   ],
   "source": [
    "print('Sample instances from the dataset are given below')\n",
    "print(heartDisease.head())"
   ]
  },
  {
   "cell_type": "code",
   "execution_count": 4,
   "id": "4f2d08bb-ad2c-4bcc-bfda-0fb3bb869fba",
   "metadata": {},
   "outputs": [
    {
     "name": "stdout",
     "output_type": "stream",
     "text": [
      "\n",
      " Attributes and datatypes\n",
      "age           int64\n",
      "sex           int64\n",
      "cp            int64\n",
      "trestbps      int64\n",
      "chol          int64\n",
      "fbs           int64\n",
      "restecg       int64\n",
      "thalach       int64\n",
      "exang         int64\n",
      "oldpeak     float64\n",
      "slope         int64\n",
      "ca            int64\n",
      "thal          int64\n",
      "target        int64\n",
      "dtype: object\n"
     ]
    }
   ],
   "source": [
    "print('\\n Attributes and datatypes')\n",
    "print(heartDisease.dtypes)"
   ]
  },
  {
   "cell_type": "code",
   "execution_count": 5,
   "id": "3dc5808b-814a-479a-a736-fc6b84025966",
   "metadata": {},
   "outputs": [],
   "source": [
    "model = BayesianNetwork([('age','target'),('sex','target'),('exang','target'),('cp','target'),('target','restecg'),('target','chol')])"
   ]
  },
  {
   "cell_type": "code",
   "execution_count": 6,
   "id": "b43168dd-1e1e-4e45-a97a-974cd653d36a",
   "metadata": {},
   "outputs": [
    {
     "name": "stdout",
     "output_type": "stream",
     "text": [
      "\n",
      "Learning CPD using Maximum likelihood estimators\n"
     ]
    }
   ],
   "source": [
    "print('\\nLearning CPD using Maximum likelihood estimators')\n",
    "model.fit(heartDisease,estimator=MaximumLikelihoodEstimator)"
   ]
  },
  {
   "cell_type": "code",
   "execution_count": 7,
   "id": "4831dd24-bb0b-4754-a2a4-42d48e666646",
   "metadata": {},
   "outputs": [
    {
     "name": "stdout",
     "output_type": "stream",
     "text": [
      "\n",
      " Inferencing with Bayesian Network:\n"
     ]
    }
   ],
   "source": [
    "print('\\n Inferencing with Bayesian Network:')\n",
    "HeartDiseasetest_infer = VariableElimination(model)"
   ]
  },
  {
   "cell_type": "code",
   "execution_count": 8,
   "id": "246ed990-8cff-4e20-af7c-e7136833e2bc",
   "metadata": {},
   "outputs": [
    {
     "name": "stdout",
     "output_type": "stream",
     "text": [
      "\n",
      " 1. Probability of HeartDisease given evidence= restecg\n",
      "+-----------+---------------+\n",
      "| target    |   phi(target) |\n",
      "+===========+===============+\n",
      "| target(0) |        0.4354 |\n",
      "+-----------+---------------+\n",
      "| target(1) |        0.5646 |\n",
      "+-----------+---------------+\n"
     ]
    }
   ],
   "source": [
    "print('\\n 1. Probability of HeartDisease given evidence= restecg')\n",
    "q1=HeartDiseasetest_infer.query(variables=['target'],evidence={'restecg':1})\n",
    "print(q1)"
   ]
  },
  {
   "cell_type": "code",
   "execution_count": 9,
   "id": "5edfbb04-6861-44ee-9550-8e64c727b0e9",
   "metadata": {},
   "outputs": [
    {
     "name": "stdout",
     "output_type": "stream",
     "text": [
      "\n",
      " 2. Probability of HeartDisease given evidence= cp \n",
      "+-----------+---------------+\n",
      "| target    |   phi(target) |\n",
      "+===========+===============+\n",
      "| target(0) |        0.3832 |\n",
      "+-----------+---------------+\n",
      "| target(1) |        0.6168 |\n",
      "+-----------+---------------+\n"
     ]
    }
   ],
   "source": [
    "print('\\n 2. Probability of HeartDisease given evidence= cp ')\n",
    "q2=HeartDiseasetest_infer.query(variables=['target'],evidence={'cp':2})\n",
    "print(q2)"
   ]
  }
 ],
 "metadata": {
  "kernelspec": {
   "display_name": "Python 3 (ipykernel)",
   "language": "python",
   "name": "python3"
  },
  "language_info": {
   "codemirror_mode": {
    "name": "ipython",
    "version": 3
   },
   "file_extension": ".py",
   "mimetype": "text/x-python",
   "name": "python",
   "nbconvert_exporter": "python",
   "pygments_lexer": "ipython3",
   "version": "3.9.17"
  }
 },
 "nbformat": 4,
 "nbformat_minor": 5
}
