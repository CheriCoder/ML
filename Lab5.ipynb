{
 "cells": [
  {
   "cell_type": "code",
   "execution_count": 1,
   "id": "8ceda4fa-dd19-4b87-885e-bd3c2fde9d70",
   "metadata": {},
   "outputs": [],
   "source": [
    "import csv\n",
    "import random\n",
    "import math"
   ]
  },
  {
   "cell_type": "code",
   "execution_count": 2,
   "id": "0950d132-28c9-44e7-ae2a-93ac9138db5b",
   "metadata": {},
   "outputs": [],
   "source": [
    "def loadcsv(filename):\n",
    "    try:\n",
    "        with open(filename, \"r\") as file:\n",
    "            lines = csv.reader(file)\n",
    "            dataset = list(lines)\n",
    "            for i in range(len(dataset)):\n",
    "                dataset[i] = [float(x) for x in dataset[i]]\n",
    "            return dataset   \n",
    "    except FileNotFoundError:\n",
    "        print(f\"File {filename} not found.\")\n",
    "        return []"
   ]
  },
  {
   "cell_type": "code",
   "execution_count": 3,
   "id": "c255b569-db4b-49a4-b9ce-73fcca1c001c",
   "metadata": {},
   "outputs": [],
   "source": [
    "def splitdataset(dataset, splitratio):\n",
    "    trainsize = int(len(dataset) * splitratio)\n",
    "    trainset = []\n",
    "    copy = list(dataset)\n",
    "    while len(trainset) < trainsize:\n",
    "        index = random.randrange(len(copy))\n",
    "        trainset.append(copy.pop(index))\n",
    "    return [trainset, copy]"
   ]
  },
  {
   "cell_type": "code",
   "execution_count": 4,
   "id": "f22866e6-6ce6-4c5a-b516-0e033c377f61",
   "metadata": {},
   "outputs": [],
   "source": [
    "def separatebyclass(dataset):\n",
    "    separated = {}\n",
    "    for i in range(len(dataset)):\n",
    "        vector = dataset[i]\n",
    "        if vector[-1] not in separated:\n",
    "            separated[vector[-1]] = []\n",
    "        separated[vector[-1]].append(vector)\n",
    "    return separated"
   ]
  },
  {
   "cell_type": "code",
   "execution_count": 5,
   "id": "8eccabeb-cdd7-44c3-b77a-987b6d748453",
   "metadata": {},
   "outputs": [],
   "source": [
    "def mean(numbers):\n",
    "    return sum(numbers) / float(len(numbers))"
   ]
  },
  {
   "cell_type": "code",
   "execution_count": 6,
   "id": "44855792-3ae5-4c9c-b175-b0f07880605d",
   "metadata": {},
   "outputs": [],
   "source": [
    "def stdev(numbers):\n",
    "    avg = mean(numbers)\n",
    "    variance = sum([pow(x - avg, 2) for x in numbers]) / float(len(numbers) - 1)\n",
    "    return math.sqrt(variance)"
   ]
  },
  {
   "cell_type": "code",
   "execution_count": 7,
   "id": "16cc74ee-d34c-42a1-b58b-e9a5d28077c0",
   "metadata": {},
   "outputs": [],
   "source": [
    "def summarize(dataset):\n",
    "    summaries = [(mean(attribute), stdev(attribute)) for attribute in zip(*dataset)]\n",
    "    del summaries[-1]\n",
    "    return summaries"
   ]
  },
  {
   "cell_type": "code",
   "execution_count": 8,
   "id": "91bfdded-1f09-444a-b1a3-cdc6b5bc9360",
   "metadata": {},
   "outputs": [],
   "source": [
    "def summarizebyclass(dataset):\n",
    "    separated = separatebyclass(dataset)\n",
    "    summaries = {}\n",
    "    for classvalue, instances in separated.items():\n",
    "        summaries[classvalue] = summarize(instances)\n",
    "    return summaries"
   ]
  },
  {
   "cell_type": "code",
   "execution_count": 9,
   "id": "77eacde7-9821-4c39-b83f-8401111c9a3f",
   "metadata": {},
   "outputs": [],
   "source": [
    "def calculateprobability(x, mean, stdev):\n",
    "    exponent = math.exp(-(math.pow(x - mean, 2) / (2 * math.pow(stdev, 2))))\n",
    "    return (1 / (math.sqrt(2 * math.pi) * stdev)) * exponent"
   ]
  },
  {
   "cell_type": "code",
   "execution_count": 10,
   "id": "ed196eed-3599-46e2-a25e-a6ace5d7879c",
   "metadata": {},
   "outputs": [],
   "source": [
    "def calculateclassprobabilities(summaries, inputvector):\n",
    "    probabilities = {}\n",
    "    for classvalue, classsummaries in summaries.items():\n",
    "        probabilities[classvalue] = 1\n",
    "        for i in range(len(classsummaries)):\n",
    "            mean, stdev = classsummaries[i]\n",
    "            x = inputvector[i]\n",
    "            probabilities[classvalue] *= calculateprobability(x, mean, stdev)\n",
    "    return probabilities         "
   ]
  },
  {
   "cell_type": "code",
   "execution_count": 11,
   "id": "1806ed03-15b6-41eb-a4b1-ca2c50c9e442",
   "metadata": {},
   "outputs": [],
   "source": [
    "def predict(summaries, inputvector):\n",
    "    probabilities = calculateclassprobabilities(summaries, inputvector)\n",
    "    bestLabel, bestProb = None, -1\n",
    "    for classvalue, probability in probabilities.items():\n",
    "        if bestLabel is None or probability > bestProb:\n",
    "            bestProb = probability\n",
    "            bestLabel = classvalue\n",
    "    return bestLabel    "
   ]
  },
  {
   "cell_type": "code",
   "execution_count": 12,
   "id": "304d0d92-4760-4dbf-a41a-875ce13c54fe",
   "metadata": {},
   "outputs": [],
   "source": [
    "def getpredictions(summaries, testset):\n",
    "    predictions = []\n",
    "    for i in range(len(testset)):\n",
    "        result = predict(summaries, testset[i])\n",
    "        predictions.append(result)\n",
    "    return predictions"
   ]
  },
  {
   "cell_type": "code",
   "execution_count": 13,
   "id": "9803f449-2b35-4015-88c9-b5a48927bcef",
   "metadata": {},
   "outputs": [],
   "source": [
    "def getaccuracy(testset, predictions):\n",
    "    correct = 0\n",
    "    for i in range(len(testset)):\n",
    "        if testset[i][-1] == predictions[i]:\n",
    "            correct += 1\n",
    "    return (correct / float(len(testset))) * 100.0"
   ]
  },
  {
   "cell_type": "code",
   "execution_count": 14,
   "id": "50bc2e22-2fef-4fff-8b7b-e03337e5948d",
   "metadata": {},
   "outputs": [],
   "source": [
    "def main():\n",
    "    filename = 'diabetes.csv'\n",
    "    splitratio = 0.67\n",
    "    dataset = loadcsv(filename)\n",
    "    if not dataset:\n",
    "        return\n",
    "    trainingset, testset = splitdataset(dataset, splitratio)\n",
    "    print(f'Split {len(dataset)} rows into train={len(trainingset)} and test={len(testset)} rows')\n",
    "    summaries = summarizebyclass(trainingset)\n",
    "    predictions = getpredictions(summaries, testset)\n",
    "    accuracy = getaccuracy(testset, predictions)\n",
    "    print(f'Accuracy of the classifier is: {accuracy}%')"
   ]
  },
  {
   "cell_type": "code",
   "execution_count": 15,
   "id": "c619b2bc-a2ab-417c-af90-4897e703b710",
   "metadata": {},
   "outputs": [
    {
     "name": "stdout",
     "output_type": "stream",
     "text": [
      "Split 768 rows into train=514 and test=254 rows\n",
      "Accuracy of the classifier is: 72.44094488188976%\n"
     ]
    }
   ],
   "source": [
    "main()"
   ]
  }
 ],
 "metadata": {
  "kernelspec": {
   "display_name": "Python 3 (ipykernel)",
   "language": "python",
   "name": "python3"
  },
  "language_info": {
   "codemirror_mode": {
    "name": "ipython",
    "version": 3
   },
   "file_extension": ".py",
   "mimetype": "text/x-python",
   "name": "python",
   "nbconvert_exporter": "python",
   "pygments_lexer": "ipython3",
   "version": "3.9.17"
  }
 },
 "nbformat": 4,
 "nbformat_minor": 5
}
