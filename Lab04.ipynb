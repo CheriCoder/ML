{
 "cells": [
  {
   "cell_type": "code",
   "execution_count": 1,
   "id": "57ec72bd-843f-42af-bce9-96274b9a7173",
   "metadata": {},
   "outputs": [],
   "source": [
    "import numpy as np\n",
    "X = np.array(([2, 9], [1, 5], [3, 6]), dtype=float)\n",
    "y = np.array(([92], [86], [89]), dtype=float)\n",
    "X = X/np.amax(X,axis=0) # maximum of X array longitudinally\n",
    "y = y/100"
   ]
  },
  {
   "cell_type": "code",
   "execution_count": 2,
   "id": "0fd90656-b90b-414d-a961-8c39696355f6",
   "metadata": {},
   "outputs": [],
   "source": [
    "# Sigmoid Function\n",
    "def sigmoid (x):\n",
    " return 1/(1 + np.exp(-x))"
   ]
  },
  {
   "cell_type": "code",
   "execution_count": 3,
   "id": "c043f534-1437-46c6-a83f-d2274ab02298",
   "metadata": {},
   "outputs": [],
   "source": [
    "# Derivative of Sigmoid Function\n",
    "def derivatives_sigmoid(x):\n",
    " return x * (1 - x)"
   ]
  },
  {
   "cell_type": "code",
   "execution_count": 4,
   "id": "8ffb3123-fcd8-4a76-83b6-41a41eca4f84",
   "metadata": {},
   "outputs": [],
   "source": [
    "# Variable initialization\n",
    "epoch=500 # Setting training iterations\n",
    "lr=0.1 # Setting learning rate\n",
    "inputlayer_neurons = 2 # number of features in data set\n",
    "hiddenlayer_neurons = 3 # number of hidden layers neurons\n",
    "output_neurons = 1 # number of neurons at output layer"
   ]
  },
  {
   "cell_type": "code",
   "execution_count": 5,
   "id": "c956bc81-f4ef-4db6-9388-c8b3ae04a621",
   "metadata": {},
   "outputs": [],
   "source": [
    "# weight and bias initialization\n",
    "wh=np.random.uniform(size=(inputlayer_neurons,hiddenlayer_neurons))\n",
    "bh=np.random.uniform(size=(1,hiddenlayer_neurons))\n",
    "wout=np.random.uniform(size=(hiddenlayer_neurons,output_neurons))\n",
    "bout=np.random.uniform(size=(1,output_neurons))"
   ]
  },
  {
   "cell_type": "code",
   "execution_count": 6,
   "id": "fab9b4da-04c0-4c70-b0e4-58049c05d06b",
   "metadata": {},
   "outputs": [],
   "source": [
    "# draws a random range of numbers uniformly of dim x*y\n",
    "for i in range(epoch):\n",
    " # Forward Propogation\n",
    " hinp1=np.dot(X,wh)\n",
    " hinp=hinp1 + bh\n",
    " hlayer_act = sigmoid(hinp)\n",
    " outinp1=np.dot(hlayer_act,wout)\n",
    " outinp= outinp1+ bout\n",
    " output = sigmoid(outinp)"
   ]
  },
  {
   "cell_type": "code",
   "execution_count": 7,
   "id": "c1a7e3ee-d72a-40b9-b757-1e52b10ecc59",
   "metadata": {},
   "outputs": [],
   "source": [
    "#Backpropagation\n",
    "EO = y-output\n",
    "outgrad = derivatives_sigmoid(output)\n",
    "d_output = EO* outgrad\n",
    "EH = d_output.dot(wout.T)"
   ]
  },
  {
   "cell_type": "code",
   "execution_count": 8,
   "id": "0dc7fe37-ccec-4f50-85dc-a23f8eb598fd",
   "metadata": {},
   "outputs": [],
   "source": [
    "#how much hidden layer wts contributed to error\n",
    "hiddengrad = derivatives_sigmoid(hlayer_act)\n",
    "d_hiddenlayer = EH * hiddengrad"
   ]
  },
  {
   "cell_type": "code",
   "execution_count": 9,
   "id": "32305d18-371f-4b2f-a40e-aeffc212b3b0",
   "metadata": {},
   "outputs": [],
   "source": [
    "# dot product of next layer error and current layer output\n",
    "wout += hlayer_act.T.dot(d_output) *lr\n",
    "wh += X.T.dot(d_hiddenlayer) *lr"
   ]
  },
  {
   "cell_type": "code",
   "execution_count": 10,
   "id": "725d863a-4366-4678-a88e-11d7fe37a568",
   "metadata": {},
   "outputs": [
    {
     "name": "stdout",
     "output_type": "stream",
     "text": [
      "\n",
      " Input: \n",
      "[[0.66666667 1.        ]\n",
      " [0.33333333 0.55555556]\n",
      " [1.         0.66666667]]\n",
      "\n",
      " Actual Output: \n",
      "[[0.92]\n",
      " [0.86]\n",
      " [0.89]]\n",
      "\n",
      " Predicted Output: \n",
      " [[0.82952201]\n",
      " [0.81905715]\n",
      " [0.82733138]]\n"
     ]
    }
   ],
   "source": [
    "print(\"\\n Input: \\n\" + str(X))\n",
    "print(\"\\n Actual Output: \\n\" + str(y))\n",
    "print(\"\\n Predicted Output: \\n\" ,output)"
   ]
  }
 ],
 "metadata": {
  "kernelspec": {
   "display_name": "Python 3 (ipykernel)",
   "language": "python",
   "name": "python3"
  },
  "language_info": {
   "codemirror_mode": {
    "name": "ipython",
    "version": 3
   },
   "file_extension": ".py",
   "mimetype": "text/x-python",
   "name": "python",
   "nbconvert_exporter": "python",
   "pygments_lexer": "ipython3",
   "version": "3.9.17"
  }
 },
 "nbformat": 4,
 "nbformat_minor": 5
}
