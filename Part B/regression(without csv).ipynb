{
 "cells": [
  {
   "cell_type": "code",
   "execution_count": 1,
   "id": "afd1b1f2-f3f2-444b-aae3-b8101ecef727",
   "metadata": {},
   "outputs": [],
   "source": [
    "import numpy as np\n",
    "import pandas as pd\n",
    "from sklearn.datasets import make_regression\n",
    "from sklearn.model_selection import train_test_split\n",
    "from sklearn.preprocessing import StandardScaler\n",
    "from sklearn.linear_model import Ridge, Lasso, ElasticNet\n",
    "from sklearn.metrics import mean_squared_error"
   ]
  },
  {
   "cell_type": "code",
   "execution_count": 2,
   "id": "09e012b3-b018-4c46-9a36-788292126c09",
   "metadata": {},
   "outputs": [],
   "source": [
    "# Generate synthetic data (replace this with your dataset)\n",
    "X, y = make_regression(n_samples=100, n_features=5, noise=0.1, random_state=42)"
   ]
  },
  {
   "cell_type": "code",
   "execution_count": 3,
   "id": "fd6ca86b-0807-453b-b657-294e02c778f8",
   "metadata": {},
   "outputs": [],
   "source": [
    "# Split dataset into training and testing sets\n",
    "X_train, X_test, y_train, y_test = train_test_split(X, y, test_size=0.3, random_state=42)"
   ]
  },
  {
   "cell_type": "code",
   "execution_count": 4,
   "id": "9244ce9e-a107-477f-affd-d11e81612905",
   "metadata": {},
   "outputs": [],
   "source": [
    "# Standardize features\n",
    "scaler = StandardScaler()\n",
    "X_train = scaler.fit_transform(X_train)\n",
    "X_test = scaler.transform(X_test)"
   ]
  },
  {
   "cell_type": "code",
   "execution_count": 5,
   "id": "7befa691-f961-465c-a923-da4339dc6c67",
   "metadata": {},
   "outputs": [],
   "source": [
    "# Initialize models\n",
    "ridge_model = Ridge(alpha=1.0)\n",
    "lasso_model = Lasso(alpha=1.0)\n",
    "elasticnet_model = ElasticNet(alpha=1.0, l1_ratio=0.5)"
   ]
  },
  {
   "cell_type": "code",
   "execution_count": 6,
   "id": "c0fa4a77-5557-4a3d-a7a8-20bbccd32313",
   "metadata": {},
   "outputs": [
    {
     "data": {
      "text/plain": [
       "ElasticNet()"
      ]
     },
     "execution_count": 6,
     "metadata": {},
     "output_type": "execute_result"
    }
   ],
   "source": [
    "# Train models\n",
    "ridge_model.fit(X_train, y_train)\n",
    "lasso_model.fit(X_train, y_train)\n",
    "elasticnet_model.fit(X_train, y_train)"
   ]
  },
  {
   "cell_type": "code",
   "execution_count": 7,
   "id": "d97984a3-2535-46c6-b7a4-f4166949fafa",
   "metadata": {},
   "outputs": [],
   "source": [
    "# Make predictions\n",
    "ridge_pred = ridge_model.predict(X_test)\n",
    "lasso_pred = lasso_model.predict(X_test)\n",
    "elasticnet_pred = elasticnet_model.predict(X_test)"
   ]
  },
  {
   "cell_type": "code",
   "execution_count": 8,
   "id": "7cafcd78-f0d3-42ce-a058-d85b459fa3f5",
   "metadata": {},
   "outputs": [],
   "source": [
    "# Evaluate the models\n",
    "ridge_mse = mean_squared_error(y_test, ridge_pred)\n",
    "lasso_mse = mean_squared_error(y_test, lasso_pred)\n",
    "elasticnet_mse = mean_squared_error(y_test, elasticnet_pred)"
   ]
  },
  {
   "cell_type": "code",
   "execution_count": 9,
   "id": "3e0597a4-5b4d-49db-b828-a434ff729d87",
   "metadata": {},
   "outputs": [
    {
     "name": "stdout",
     "output_type": "stream",
     "text": [
      "Ridge Regression MSE: 4.084011566020595\n",
      "Lasso Regression MSE: 4.803631072433105\n",
      "Elastic Net Regression MSE: 2209.686290591765\n"
     ]
    }
   ],
   "source": [
    "print(f\"Ridge Regression MSE: {ridge_mse}\")\n",
    "print(f\"Lasso Regression MSE: {lasso_mse}\")\n",
    "print(f\"Elastic Net Regression MSE: {elasticnet_mse}\")\n"
   ]
  }
 ],
 "metadata": {
  "kernelspec": {
   "display_name": "Python 3 (ipykernel)",
   "language": "python",
   "name": "python3"
  },
  "language_info": {
   "codemirror_mode": {
    "name": "ipython",
    "version": 3
   },
   "file_extension": ".py",
   "mimetype": "text/x-python",
   "name": "python",
   "nbconvert_exporter": "python",
   "pygments_lexer": "ipython3",
   "version": "3.9.17"
  }
 },
 "nbformat": 4,
 "nbformat_minor": 5
}
