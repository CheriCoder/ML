{
 "cells": [
  {
   "cell_type": "code",
   "execution_count": null,
   "id": "c84fd627-5cdd-44a2-9f8c-3bae7fb849dd",
   "metadata": {},
   "outputs": [],
   "source": [
    "import pandas as pd\n",
    "from sklearn.model_selection import train_test_split\n",
    "from sklearn.preprocessing import StandardScaler\n",
    "from sklearn.linear_model import Ridge, Lasso, ElasticNet\n",
    "from sklearn.metrics import mean_squared_error\n",
    "\n",
    "# Load your dataset (replace 'car_prices.csv' with your actual dataset file)\n",
    "data = pd.read_csv('car_prices.csv')\n",
    "\n",
    "# Assuming the target column is 'price' and the rest are features\n",
    "X = data.drop('price', axis=1)\n",
    "y = data['price']\n",
    "\n",
    "# Split dataset into training and testing sets\n",
    "X_train, X_test, y_train, y_test = train_test_split(X, y, test_size=0.3, random_state=42)\n",
    "\n",
    "# Standardize features\n",
    "scaler = StandardScaler()\n",
    "X_train = scaler.fit_transform(X_train)\n",
    "X_test = scaler.transform(X_test)\n",
    "\n",
    "# Initialize models\n",
    "ridge_model = Ridge(alpha=1.0)\n",
    "lasso_model = Lasso(alpha=1.0)\n",
    "elasticnet_model = ElasticNet(alpha=1.0, l1_ratio=0.5)\n",
    "\n",
    "# Train models\n",
    "ridge_model.fit(X_train, y_train)\n",
    "lasso_model.fit(X_train, y_train)\n",
    "elasticnet_model.fit(X_train, y_train)\n",
    "\n",
    "# Make predictions\n",
    "ridge_pred = ridge_model.predict(X_test)\n",
    "lasso_pred = lasso_model.predict(X_test)\n",
    "elasticnet_pred = elasticnet_model.predict(X_test)\n",
    "\n",
    "# Evaluate the models\n",
    "ridge_mse = mean_squared_error(y_test, ridge_pred)\n",
    "lasso_mse = mean_squared_error(y_test, lasso_pred)\n",
    "elasticnet_mse = mean_squared_error(y_test, elasticnet_pred)\n",
    "\n",
    "print(f\"Ridge Regression MSE: {ridge_mse}\")\n",
    "print(f\"Lasso Regression MSE: {lasso_mse}\")\n",
    "print(f\"Elastic Net Regression MSE: {elasticnet_mse}\")\n"
   ]
  }
 ],
 "metadata": {
  "kernelspec": {
   "display_name": "Python 3 (ipykernel)",
   "language": "python",
   "name": "python3"
  },
  "language_info": {
   "codemirror_mode": {
    "name": "ipython",
    "version": 3
   },
   "file_extension": ".py",
   "mimetype": "text/x-python",
   "name": "python",
   "nbconvert_exporter": "python",
   "pygments_lexer": "ipython3",
   "version": "3.11.5"
  }
 },
 "nbformat": 4,
 "nbformat_minor": 5
}
